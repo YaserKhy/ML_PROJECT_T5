{
 "cells": [
  {
   "cell_type": "markdown",
   "metadata": {},
   "source": [
    "# Machine Learning Project\n",
    "\n",
    "By Rawan Althubyani, Munira Alhazzani, and Yaser Alkhayyat"
   ]
  },
  {
   "cell_type": "markdown",
   "metadata": {},
   "source": [
    "# 1. Data Preprocessing (10 marks):\n",
    " • Load the Iris dataset.\n",
    "\n",
    " • Perform data exploration and visualization.\n",
    "\n",
    " • Check for missing values and handle them if any.\n",
    " \n",
    " • Split the dataset into features and target variables."
   ]
  },
  {
   "cell_type": "code",
   "execution_count": null,
   "metadata": {},
   "outputs": [],
   "source": []
  },
  {
   "cell_type": "markdown",
   "metadata": {},
   "source": [
    "\n",
    "# 2. Unsupervised Learning: Clustering and Outlier Detection (20 marks):\n",
    " • Apply K-means clustering algorithm to cluster the data.\n",
    "\n",
    " • Visualize the clusters.\n",
    "\n",
    " • Detect outliers using appropriate techniques such as isolation forest or DBSCAN.\n",
    "\n",
    " • Evaluate the clustering results.\n"
   ]
  },
  {
   "cell_type": "code",
   "execution_count": null,
   "metadata": {},
   "outputs": [],
   "source": []
  },
  {
   "cell_type": "markdown",
   "metadata": {},
   "source": [
    "\n",
    "# 3. Supervised Learning: Baseline Model (10 marks):\n",
    " • Choose an appropriate evaluation metric based on the problem (classification).\n",
    "\n",
    " • Split the dataset into training and testing sets.\n",
    "\n",
    " • Build a baseline model (e.g., logistic regression or decision tree) using default parameters.\n",
    "\n",
    " • Evaluate the baseline model's performance.\n"
   ]
  },
  {
   "cell_type": "code",
   "execution_count": null,
   "metadata": {},
   "outputs": [],
   "source": []
  },
  {
   "cell_type": "markdown",
   "metadata": {},
   "source": [
    "\n",
    " # 4. Model Comparison (30 marks):\n",
    " • Select 3-4 machine learning algorithms (e.g., SVM, Random Forest, Gradient Boosting) suitable for the problem.\n",
    "\n",
    " • Implement each algorithm and evaluate its performance using cross-validation.\n",
    "\n",
    " • Compare the performance of algorithms based on evaluation metrics.\n",
    "\n",
    " • Select the best-performing algorithm.\n"
   ]
  },
  {
   "cell_type": "code",
   "execution_count": null,
   "metadata": {},
   "outputs": [],
   "source": []
  },
  {
   "cell_type": "markdown",
   "metadata": {},
   "source": [
    "\n",
    "# 5. Model Tuning and Ensemble (20 marks):\n",
    " • Perform hyperparameter tuning on the best-performing algorithm using Grid Search or Random Search.\n",
    "\n",
    " • Evaluate the tuned model's performance."
   ]
  },
  {
   "cell_type": "code",
   "execution_count": null,
   "metadata": {},
   "outputs": [],
   "source": []
  },
  {
   "cell_type": "markdown",
   "metadata": {},
   "source": [
    "# 6. Documentation and Presentation (10 marks):\n",
    " • Provide a clear and concise report documenting the project process, including data preprocessing, model implementation, evaluation, and conclusions.\n",
    " \n",
    " • Prepare a presentation summarizing the key findings and insights from the project."
   ]
  },
  {
   "cell_type": "code",
   "execution_count": 1,
   "metadata": {},
   "outputs": [],
   "source": [
    "from sklearn import datasets\n",
    "\n",
    "# Load the Iris dataset\n",
    "iris = datasets.load_iris()"
   ]
  }
 ],
 "metadata": {
  "kernelspec": {
   "display_name": "Python 3",
   "language": "python",
   "name": "python3"
  },
  "language_info": {
   "codemirror_mode": {
    "name": "ipython",
    "version": 3
   },
   "file_extension": ".py",
   "mimetype": "text/x-python",
   "name": "python",
   "nbconvert_exporter": "python",
   "pygments_lexer": "ipython3",
   "version": "3.11.9"
  }
 },
 "nbformat": 4,
 "nbformat_minor": 2
}
